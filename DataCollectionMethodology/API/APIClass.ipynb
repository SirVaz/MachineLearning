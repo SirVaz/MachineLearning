{
 "cells": [
  {
   "cell_type": "markdown",
   "metadata": {},
   "source": [
    "## API - apliccation programming interface"
   ]
  },
  {
   "cell_type": "markdown",
   "metadata": {},
   "source": [
    "### Two APIs\n",
    "* http://jservice.io/\n",
    "* https://www.coindesk.com/api\n",
    "\n",
    "## We will be using the jservice one: It contains a bunch of trivia questions. For the purpose of this notebook, the content of the API doesn't really matter. "
   ]
  },
  {
   "cell_type": "markdown",
   "metadata": {},
   "source": [
    "## Http methods "
   ]
  },
  {
   "cell_type": "markdown",
   "metadata": {},
   "source": [
    "### GET\n",
    "> Example on how to use some get requests"
   ]
  },
  {
   "cell_type": "code",
   "execution_count": 1,
   "metadata": {},
   "outputs": [],
   "source": [
    "import requests\n",
    "import json"
   ]
  },
  {
   "cell_type": "code",
   "execution_count": 2,
   "metadata": {},
   "outputs": [],
   "source": [
    "response = requests.get('http://jservice.io/api/categories?count=2')"
   ]
  },
  {
   "cell_type": "code",
   "execution_count": 3,
   "metadata": {},
   "outputs": [
    {
     "data": {
      "text/plain": [
       "requests.models.Response"
      ]
     },
     "execution_count": 3,
     "metadata": {},
     "output_type": "execute_result"
    }
   ],
   "source": [
    "type(response)"
   ]
  },
  {
   "cell_type": "markdown",
   "metadata": {},
   "source": [
    "#### The response variable is just an object that allows you to reach the different elements from a URL request"
   ]
  },
  {
   "cell_type": "code",
   "execution_count": 4,
   "metadata": {},
   "outputs": [
    {
     "name": "stdout",
     "output_type": "stream",
     "text": [
      "What returns from the json method is <class 'list'> \n",
      "\n",
      "This is what the list looks like: \n",
      " [{'id': 5412, 'title': 'prehistoric times', 'clues_count': 10}, {'id': 11496, 'title': 'acting families', 'clues_count': 5}]\n"
     ]
    }
   ],
   "source": [
    "# this returns the json content of the response \n",
    "r = response.json()\n",
    "print('What returns from the json method is {}'.format(type(r)), '\\n')\n",
    "print('This is what the list looks like: \\n {}'.format(r))"
   ]
  },
  {
   "cell_type": "markdown",
   "metadata": {},
   "source": [
    "#### You can now use your variable `r` like any other "
   ]
  },
  {
   "cell_type": "code",
   "execution_count": 5,
   "metadata": {},
   "outputs": [
    {
     "name": "stdout",
     "output_type": "stream",
     "text": [
      "{'id': 5412, 'title': 'prehistoric times', 'clues_count': 10}\n",
      "{'id': 11496, 'title': 'acting families', 'clues_count': 5}\n"
     ]
    }
   ],
   "source": [
    "print(r[0])\n",
    "print(r[1])"
   ]
  },
  {
   "cell_type": "markdown",
   "metadata": {},
   "source": [
    "<br> "
   ]
  },
  {
   "cell_type": "markdown",
   "metadata": {},
   "source": [
    "## Going through an example to see how things work and nail some concepts! "
   ]
  },
  {
   "cell_type": "markdown",
   "metadata": {},
   "source": [
    "### Getting some data on the International Space Station\n",
    "\n",
    "* Let's use `http://open-notify.org/` "
   ]
  },
  {
   "cell_type": "markdown",
   "metadata": {},
   "source": [
    "* OpenNotify has several API endpoints. An endpoint is a server route that is used to retrieve different data from the API. You cand find these endpoints by reading the API's documentation "
   ]
  },
  {
   "cell_type": "code",
   "execution_count": 6,
   "metadata": {},
   "outputs": [],
   "source": [
    "base_url = 'http://api.open-notify.org/'\n",
    "end_point = 'iss-now.json'\n",
    "response = requests.get(base_url + end_point)"
   ]
  },
  {
   "cell_type": "code",
   "execution_count": 7,
   "metadata": {},
   "outputs": [],
   "source": [
    "# this is because response.content comes in bytes, not in string. \n",
    "r = response.json()\n"
   ]
  },
  {
   "cell_type": "code",
   "execution_count": 9,
   "metadata": {},
   "outputs": [
    {
     "data": {
      "text/plain": [
       "{'iss_position': {'longitude': '34.2598', 'latitude': '20.6030'},\n",
       " 'timestamp': 1620417481,\n",
       " 'message': 'success'}"
      ]
     },
     "execution_count": 9,
     "metadata": {},
     "output_type": "execute_result"
    }
   ],
   "source": [
    "r"
   ]
  },
  {
   "cell_type": "code",
   "execution_count": 10,
   "metadata": {},
   "outputs": [
    {
     "data": {
      "text/plain": [
       "{'longitude': '34.2598', 'latitude': '20.6030'}"
      ]
     },
     "execution_count": 10,
     "metadata": {},
     "output_type": "execute_result"
    }
   ],
   "source": [
    "r['iss_position']"
   ]
  },
  {
   "cell_type": "markdown",
   "metadata": {},
   "source": [
    "### Let's pass some parameters to the query in order to get some data about a new end_point"
   ]
  },
  {
   "cell_type": "markdown",
   "metadata": {},
   "source": [
    "What I will show next is the equivalent of making the following request `http://api.open-notify.org/iss-pass.json?lat=40.71&lon=-74`\n"
   ]
  },
  {
   "cell_type": "code",
   "execution_count": 11,
   "metadata": {},
   "outputs": [
    {
     "data": {
      "text/plain": [
       "{'message': 'success',\n",
       " 'request': {'altitude': 100,\n",
       "  'datetime': 1620417496,\n",
       "  'latitude': 40.71,\n",
       "  'longitude': -74.0,\n",
       "  'passes': 5},\n",
       " 'response': [{'duration': 614, 'risetime': 1620445376},\n",
       "  {'duration': 644, 'risetime': 1620451161},\n",
       "  {'duration': 576, 'risetime': 1620457046},\n",
       "  {'duration': 578, 'risetime': 1620462918},\n",
       "  {'duration': 647, 'risetime': 1620468732}]}"
      ]
     },
     "execution_count": 11,
     "metadata": {},
     "output_type": "execute_result"
    }
   ],
   "source": [
    "# according to the documentation (request library) your params need to be a dictionary\n",
    "parameters = {\"lat\": 40.71, \"lon\": -74}\n",
    "\n",
    "# specify the endpoint and the params you want to pass\n",
    "response = requests.get(\"http://api.open-notify.org/iss-pass.json\", params=parameters)\n",
    "\n",
    "# convert the response to something we can use. \n",
    "r = response.content.decode('utf-8')\n",
    "\n",
    "# because this is a json we still need to convert\n",
    "r_ = json.loads(r)\n",
    "r_ # much better"
   ]
  },
  {
   "cell_type": "markdown",
   "metadata": {},
   "source": [
    "# Work in class"
   ]
  },
  {
   "cell_type": "markdown",
   "metadata": {},
   "source": [
    "# Exercise 1 "
   ]
  },
  {
   "cell_type": "markdown",
   "metadata": {},
   "source": [
    "import requests\n",
    "\n",
    "url = \"https://myallies-breaking-news-v1.p.rapidapi.com/GetTopNews\"\n",
    "\n",
    "headers = {\n",
    "    'x-rapidapi-key': \"acfd71aff7msh0594993c6052cc1p1faf6cjsn02dbd6af547a\",\n",
    "    'x-rapidapi-host': \"myallies-breaking-news-v1.p.rapidapi.com\"\n",
    "    }\n",
    "\n",
    "response = requests.request(\"GET\", url, headers=headers)\n",
    "\n",
    "print(response.text)##### Start by making sure you are able to use the `requests` library. For this, make sure you are able to get information from two different endpoints on the [breaking news api](https://rapidapi.com/MyAllies/api/breaking-news).\n",
    "\n",
    "The two endpoints you should be able to query are:\n",
    "* Real-time News Feed\n",
    "* GetCompanyDetailsBySymbol"
   ]
  },
  {
   "cell_type": "code",
   "execution_count": 12,
   "metadata": {},
   "outputs": [
    {
     "name": "stdout",
     "output_type": "stream",
     "text": [
      "{\"Data\":[],\"EventMessage\":null}\n"
     ]
    }
   ],
   "source": [
    "import requests\n",
    "\n",
    "url = \"https://myallies-breaking-news-v1.p.rapidapi.com/GetTopNews\"\n",
    "\n",
    "headers = {\n",
    "    'x-rapidapi-key': \"acfd71aff7msh0594993c6052cc1p1faf6cjsn02dbd6af547a\",\n",
    "    'x-rapidapi-host': \"myallies-breaking-news-v1.p.rapidapi.com\"\n",
    "    }\n",
    "\n",
    "response = requests.request(\"GET\", url, headers=headers)\n",
    "\n",
    "print(response.text)"
   ]
  },
  {
   "cell_type": "code",
   "execution_count": 15,
   "metadata": {},
   "outputs": [
    {
     "name": "stdout",
     "output_type": "stream",
     "text": [
      "{\"Data\":{\"ID\":2968,\"Symbol\":\"AAPL\",\"Name\":\"Apple Inc.\",\"ISIN\":\"US0378331005\",\"CIK\":320193,\"TradeCount\":23,\"ViewCount\":1761,\"Stock\":{\"CompanyID\":2968,\"LastPriceDate\":\"05/07/2021 20:11\",\"LastExchangeDate\":\"05/07/2021 20:11\",\"MarketCapitalization\":null,\"FrankfurtLastPrice\":0.0,\"LastUpdated\":\"05/07/2021 20:11\",\"Price\":null,\"Close\":129.74,\"PreviousClose\":128.1,\"Id\":0},\"Stream\":null,\"LogoPath\":\"/temp/company/2968\\\\06639f8453084c08b90ca0b810bd1da3.jpg\",\"MarketCap\":2411100000000,\"Market\":0},\"EventMessage\":null}\n"
     ]
    }
   ],
   "source": [
    "import requests\n",
    "\n",
    "url = \"https://myallies-breaking-news-v1.p.rapidapi.com/GetCompanyDetailsBySymbol\"\n",
    "\n",
    "querystring = {\"symbol\":\"AAPL\"}\n",
    "\n",
    "headers = {\n",
    "    'x-rapidapi-key': \"acfd71aff7msh0594993c6052cc1p1faf6cjsn02dbd6af547a\",\n",
    "    'x-rapidapi-host': \"myallies-breaking-news-v1.p.rapidapi.com\"\n",
    "    }\n",
    "\n",
    "response = requests.request(\"GET\", url, headers=headers, params=querystring)\n",
    "\n",
    "print(response.text)"
   ]
  },
  {
   "cell_type": "markdown",
   "metadata": {},
   "source": [
    "# Exercise 2 "
   ]
  },
  {
   "cell_type": "markdown",
   "metadata": {},
   "source": [
    "##### You will be the weather man/woman for this one! Use the [weather api](https://openweathermap.org/) and make sure you specifiy your own project! The script you will write is meant to be running continuously, so you should specify exactly what your project is and then execute. "
   ]
  },
  {
   "cell_type": "code",
   "execution_count": 34,
   "metadata": {},
   "outputs": [
    {
     "name": "stdout",
     "output_type": "stream",
     "text": [
      "{\"coord\":{\"lon\":-4.8818,\"lat\":58.5809},\"weather\":[{\"id\":804,\"main\":\"Clouds\",\"description\":\"overcast clouds\",\"icon\":\"04n\"}],\"base\":\"stations\",\"main\":{\"temp\":277.2,\"feels_like\":277.2,\"temp_min\":276.48,\"temp_max\":278.15,\"pressure\":1011,\"humidity\":65},\"visibility\":10000,\"wind\":{\"speed\":0.45,\"deg\":315,\"gust\":1.34},\"clouds\":{\"all\":90},\"dt\":1620420460,\"sys\":{\"type\":3,\"id\":2010322,\"country\":\"GB\",\"sunrise\":1620360552,\"sunset\":1620418974},\"timezone\":3600,\"id\":2645401,\"name\":\"Inverness\",\"cod\":200}\n"
     ]
    }
   ],
   "source": [
    "\n",
    "import requests\n",
    "\n",
    "url = \"https://api.openweathermap.org/data/2.5/weather\"\n",
    "\n",
    "querystring = {'q' : 620, 'appid' : '4aca07c647f445d4d6275cc528938c68'}\n",
    "\n",
    "response = requests.request(\"GET\", url, params = querystring)\n",
    "\n",
    "\n",
    "print(response.text)\n"
   ]
  },
  {
   "cell_type": "code",
   "execution_count": 41,
   "metadata": {},
   "outputs": [
    {
     "name": "stdout",
     "output_type": "stream",
     "text": [
      "{\"ModalityId\":1,\"Name\":\"Musculação\",\"Description\":\"Descrição de Musculação\",\"DefaultSound\":null}\n"
     ]
    }
   ],
   "source": [
    "import requests\n",
    "\n",
    "url = \"http://mygym.apphb.com/api/Modalities/\"\n",
    "\n",
    "querystring = {'id' : '1'}\n",
    "\n",
    "response = requests.request(\"GET\", url, params = querystring)\n",
    "\n",
    "\n",
    "print(response.text)\n"
   ]
  },
  {
   "cell_type": "code",
   "execution_count": 44,
   "metadata": {},
   "outputs": [
    {
     "name": "stdout",
     "output_type": "stream",
     "text": [
      "<!DOCTYPE html>\n",
      "<html>\n",
      "    <head>\n",
      "        <title>The resource cannot be found.</title>\n",
      "        <meta name=\"viewport\" content=\"width=device-width\" />\n",
      "        <style>\n",
      "         body {font-family:\"Verdana\";font-weight:normal;font-size: .7em;color:black;} \n",
      "         p {font-family:\"Verdana\";font-weight:normal;color:black;margin-top: -5px}\n",
      "         b {font-family:\"Verdana\";font-weight:bold;color:black;margin-top: -5px}\n",
      "         H1 { font-family:\"Verdana\";font-weight:normal;font-size:18pt;color:red }\n",
      "         H2 { font-family:\"Verdana\";font-weight:normal;font-size:14pt;color:maroon }\n",
      "         pre {font-family:\"Consolas\",\"Lucida Console\",Monospace;font-size:11pt;margin:0;padding:0.5em;line-height:14pt}\n",
      "         .marker {font-weight: bold; color: black;text-decoration: none;}\n",
      "         .version {color: gray;}\n",
      "         .error {margin-bottom: 10px;}\n",
      "         .expandable { text-decoration:underline; font-weight:bold; color:navy; cursor:pointer; }\n",
      "         @media screen and (max-width: 639px) {\n",
      "          pre { width: 440px; overflow: auto; white-space: pre-wrap; word-wrap: break-word; }\n",
      "         }\n",
      "         @media screen and (max-width: 479px) {\n",
      "          pre { width: 280px; }\n",
      "         }\n",
      "        </style>\n",
      "    </head>\n",
      "\n",
      "    <body bgcolor=\"white\">\n",
      "\n",
      "            <span><H1>Server Error in '/' Application.<hr width=100% size=1 color=silver></H1>\n",
      "\n",
      "            <h2> <i>The resource cannot be found.</i> </h2></span>\n",
      "\n",
      "            <font face=\"Arial, Helvetica, Geneva, SunSans-Regular, sans-serif \">\n",
      "\n",
      "            <b> Description: </b>HTTP 404. The resource you are looking for (or one of its dependencies) could have been removed, had its name changed, or is temporarily unavailable. &nbsp;Please review the following URL and make sure that it is spelled correctly.\n",
      "            <br><br>\n",
      "\n",
      "            <b> Requested URL: </b>/Api/Workout/ByTrainingCategory/{id}<br><br>\n",
      "\n",
      "            <hr width=100% size=1 color=silver>\n",
      "\n",
      "            <b>Version Information:</b>&nbsp;Microsoft .NET Framework Version:4.0.30319; ASP.NET Version:4.8.4330.0\n",
      "\n",
      "            </font>\n",
      "\n",
      "    </body>\n",
      "</html>\n",
      "<!-- \n",
      "[HttpException]: The controller for path &#39;/Api/Workout/ByTrainingCategory/{id}&#39; was not found or does not implement IController.\n",
      "   at System.Web.Mvc.DefaultControllerFactory.GetControllerInstance(RequestContext requestContext, Type controllerType)\n",
      "   at System.Web.Mvc.DefaultControllerFactory.CreateController(RequestContext requestContext, String controllerName)\n",
      "   at System.Web.Mvc.MvcHandler.ProcessRequestInit(HttpContextBase httpContext, IController& controller, IControllerFactory& factory)\n",
      "   at System.Web.Mvc.MvcHandler.BeginProcessRequest(HttpContextBase httpContext, AsyncCallback callback, Object state)\n",
      "   at System.Web.Mvc.MvcHandler.BeginProcessRequest(HttpContext httpContext, AsyncCallback callback, Object state)\n",
      "   at System.Web.Mvc.MvcHandler.System.Web.IHttpAsyncHandler.BeginProcessRequest(HttpContext context, AsyncCallback cb, Object extraData)\n",
      "   at System.Web.HttpApplication.CallHandlerExecutionStep.System.Web.HttpApplication.IExecutionStep.Execute()\n",
      "   at System.Web.HttpApplication.ExecuteStepImpl(IExecutionStep step)\n",
      "   at System.Web.HttpApplication.ExecuteStep(IExecutionStep step, Boolean& completedSynchronously)\n",
      "--><!-- \n",
      "This error page might contain sensitive information because ASP.NET is configured to show verbose error messages using &lt;customErrors mode=\"Off\"/&gt;. Consider using &lt;customErrors mode=\"On\"/&gt; or &lt;customErrors mode=\"RemoteOnly\"/&gt; in production environments.-->\n"
     ]
    }
   ],
   "source": [
    "import requests\n",
    "#este nao é suportado supostamente pelo meu site de api \n",
    "url = \"http://mygym.apphb.com/Api/Workout/ByTrainingCategory/id={id}\"\n",
    "\n",
    "querystring = {'id' : '1'}\n",
    "\n",
    "response = requests.request(\"GET\", url, params = querystring)\n",
    "\n",
    "print(response.text)"
   ]
  },
  {
   "cell_type": "code",
   "execution_count": null,
   "metadata": {},
   "outputs": [],
   "source": []
  }
 ],
 "metadata": {
  "kernelspec": {
   "display_name": "Python 3",
   "language": "python",
   "name": "python3"
  },
  "language_info": {
   "codemirror_mode": {
    "name": "ipython",
    "version": 3
   },
   "file_extension": ".py",
   "mimetype": "text/x-python",
   "name": "python",
   "nbconvert_exporter": "python",
   "pygments_lexer": "ipython3",
   "version": "3.8.5"
  }
 },
 "nbformat": 4,
 "nbformat_minor": 4
}
