{
 "cells": [
  {
   "cell_type": "markdown",
   "metadata": {},
   "source": [
    "# JSON - Examples and exercises "
   ]
  },
  {
   "cell_type": "code",
   "execution_count": 1,
   "metadata": {},
   "outputs": [],
   "source": [
    "# all imports should be done at the beginning of the notebook \n",
    "import json\n",
    "import os"
   ]
  },
  {
   "cell_type": "markdown",
   "metadata": {},
   "source": [
    "#### careful with having the `' '` around the dictionary. `json.loads` receives a string as an argument"
   ]
  },
  {
   "cell_type": "code",
   "execution_count": 2,
   "metadata": {},
   "outputs": [
    {
     "name": "stdout",
     "output_type": "stream",
     "text": [
      "{'name': 'Thor', 'tool': 'Hammer', 'planet': 'Asgard'}\n"
     ]
    }
   ],
   "source": [
    "# Generate some random example \n",
    "\n",
    "data = '{\"name\": \"Thor\", \"tool\": \"Hammer\", \"planet\": \"Asgard\"}'\n",
    "json_dic = json.loads(data)\n",
    "print(json_dic)"
   ]
  },
  {
   "cell_type": "markdown",
   "metadata": {},
   "source": [
    "* `json.dumps` - returns a string in json format\n",
    "* `json.dump` - writes on a file in a json format"
   ]
  },
  {
   "cell_type": "code",
   "execution_count": 3,
   "metadata": {},
   "outputs": [],
   "source": [
    "# you have to open the context manager using with\n",
    "with open('first_json.json', 'w') as file:\n",
    "    json.dump(json_dic, file)"
   ]
  },
  {
   "cell_type": "markdown",
   "metadata": {},
   "source": [
    "### This is not OS agnostic, for the windows peeps: `!dir` "
   ]
  },
  {
   "cell_type": "code",
   "execution_count": 4,
   "metadata": {},
   "outputs": [
    {
     "name": "stdout",
     "output_type": "stream",
     "text": [
      " Volume in drive C is OS\n",
      " Volume Serial Number is E44E-0225\n",
      "\n",
      " Directory of C:\\Users\\hvaz1\\Documents\\Modulo6\\rumos_recolha_dados-master\n",
      "\n",
      "07/05/2021  19:38    <DIR>          .\n",
      "07/05/2021  19:38    <DIR>          ..\n",
      "29/02/2020  16:49             1 345 .gitignore\n",
      "07/05/2021  19:23    <DIR>          .ipynb_checkpoints\n",
      "29/02/2020  16:49             7 606 api_class.ipynb\n",
      "07/05/2021  19:38                54 first_json.json\n",
      "07/05/2021  19:27            10 601 json_class.ipynb\n",
      "29/02/2020  16:49                78 README.md\n",
      "29/02/2020  16:49            18 824 sql_class.ipynb\n",
      "29/02/2020  16:49            12 018 web_scraping_class.ipynb\n",
      "               7 File(s)         50 526 bytes\n",
      "               3 Dir(s)  105 471 205 376 bytes free\n"
     ]
    }
   ],
   "source": [
    "!dir"
   ]
  },
  {
   "cell_type": "markdown",
   "metadata": {},
   "source": [
    "### As you can see, this writes a json file "
   ]
  },
  {
   "cell_type": "code",
   "execution_count": 8,
   "metadata": {},
   "outputs": [
    {
     "name": "stderr",
     "output_type": "stream",
     "text": [
      "'cat' is not recognized as an internal or external command,\n",
      "operable program or batch file.\n"
     ]
    }
   ],
   "source": [
    "# use the ! to run bash commands \n",
    "! cat first_json.json"
   ]
  },
  {
   "cell_type": "code",
   "execution_count": 6,
   "metadata": {},
   "outputs": [
    {
     "data": {
      "text/plain": [
       "'{\"name\": \"Thor\", \"tool\": \"Hammer\", \"planet\": \"Asgard\"}'"
      ]
     },
     "execution_count": 6,
     "metadata": {},
     "output_type": "execute_result"
    }
   ],
   "source": [
    "# or just use python... \n",
    "open('first_json.json').read()"
   ]
  },
  {
   "cell_type": "markdown",
   "metadata": {},
   "source": [
    "# Lets do some manipulation"
   ]
  },
  {
   "cell_type": "markdown",
   "metadata": {},
   "source": [
    "### Python Dictionaries to JSON strings"
   ]
  },
  {
   "cell_type": "code",
   "execution_count": 9,
   "metadata": {},
   "outputs": [],
   "source": [
    "student = {\"101\":{\"class\":'V', \"Name\":'Rohit',  \"Roll_no\":7},\n",
    "           \"102\":{\"class\":'V', \"Name\":'David',  \"Roll_no\":8},\n",
    "           \"103\":{\"class\":'V', \"Name\":'Samiya', \"Roll_no\":12}}"
   ]
  },
  {
   "cell_type": "code",
   "execution_count": 10,
   "metadata": {},
   "outputs": [
    {
     "data": {
      "text/plain": [
       "{'101': {'class': 'V', 'Name': 'Rohit', 'Roll_no': 7},\n",
       " '102': {'class': 'V', 'Name': 'David', 'Roll_no': 8},\n",
       " '103': {'class': 'V', 'Name': 'Samiya', 'Roll_no': 12}}"
      ]
     },
     "execution_count": 10,
     "metadata": {},
     "output_type": "execute_result"
    }
   ],
   "source": [
    "student"
   ]
  },
  {
   "cell_type": "code",
   "execution_count": 11,
   "metadata": {},
   "outputs": [
    {
     "data": {
      "text/plain": [
       "'{\"101\": {\"class\": \"V\", \"Name\": \"Rohit\", \"Roll_no\": 7}, \"102\": {\"class\": \"V\", \"Name\": \"David\", \"Roll_no\": 8}, \"103\": {\"class\": \"V\", \"Name\": \"Samiya\", \"Roll_no\": 12}}'"
      ]
     },
     "execution_count": 11,
     "metadata": {},
     "output_type": "execute_result"
    }
   ],
   "source": [
    "json.dumps(student)"
   ]
  },
  {
   "cell_type": "code",
   "execution_count": 12,
   "metadata": {},
   "outputs": [
    {
     "data": {
      "text/plain": [
       "'{\"101\": {\"Name\": \"Rohit\", \"Roll_no\": 7, \"class\": \"V\"}, \"102\": {\"Name\": \"David\", \"Roll_no\": 8, \"class\": \"V\"}, \"103\": {\"Name\": \"Samiya\", \"Roll_no\": 12, \"class\": \"V\"}}'"
      ]
     },
     "execution_count": 12,
     "metadata": {},
     "output_type": "execute_result"
    }
   ],
   "source": [
    "# you have arguemnt such as sorted by keys\n",
    "json.dumps(student, sort_keys=True)"
   ]
  },
  {
   "cell_type": "markdown",
   "metadata": {},
   "source": [
    "#### Python tuple to JSON strings"
   ]
  },
  {
   "cell_type": "code",
   "execution_count": 13,
   "metadata": {},
   "outputs": [
    {
     "data": {
      "text/plain": [
       "'[\"Red\", \"Black\", \"White\"]'"
      ]
     },
     "execution_count": 13,
     "metadata": {},
     "output_type": "execute_result"
    }
   ],
   "source": [
    "tup1 = ('Red', 'Black', 'White')\n",
    "json.dumps(tup1)"
   ]
  },
  {
   "cell_type": "markdown",
   "metadata": {},
   "source": [
    "### Python string to JSON strings"
   ]
  },
  {
   "cell_type": "code",
   "execution_count": 14,
   "metadata": {},
   "outputs": [
    {
     "data": {
      "text/plain": [
       "'\"Python and JSON\"'"
      ]
     },
     "execution_count": 14,
     "metadata": {},
     "output_type": "execute_result"
    }
   ],
   "source": [
    "string1 = 'Python and JSON'\n",
    "json.dumps(string1)"
   ]
  },
  {
   "cell_type": "markdown",
   "metadata": {},
   "source": [
    "### Decode JSON strings into Python objects\n"
   ]
  },
  {
   "cell_type": "markdown",
   "metadata": {},
   "source": [
    "Lets go the other way around"
   ]
  },
  {
   "cell_type": "code",
   "execution_count": 15,
   "metadata": {},
   "outputs": [],
   "source": [
    "json_data = '{\"103\": {\"class\": \"V\", \"Name\": \"Samiya\", \"Roll_n\": 12}, \"102\": {\"class\": \"V\", \"Name\": \"David\", \"Roll_no\": 8}, \"101\": {\"class\": \"V\", \"Name\": \"Rohit\", \"Roll_no\": 7}}'\n",
    "\n"
   ]
  },
  {
   "cell_type": "code",
   "execution_count": 16,
   "metadata": {},
   "outputs": [
    {
     "data": {
      "text/plain": [
       "{'103': {'class': 'V', 'Name': 'Samiya', 'Roll_n': 12},\n",
       " '102': {'class': 'V', 'Name': 'David', 'Roll_no': 8},\n",
       " '101': {'class': 'V', 'Name': 'Rohit', 'Roll_no': 7}}"
      ]
     },
     "execution_count": 16,
     "metadata": {},
     "output_type": "execute_result"
    }
   ],
   "source": [
    "json.loads(json_data)"
   ]
  },
  {
   "cell_type": "markdown",
   "metadata": {},
   "source": [
    "## Our example"
   ]
  },
  {
   "cell_type": "code",
   "execution_count": 17,
   "metadata": {},
   "outputs": [],
   "source": [
    "from datetime import datetime"
   ]
  },
  {
   "cell_type": "code",
   "execution_count": 18,
   "metadata": {},
   "outputs": [],
   "source": [
    "raw = '{ \"name\": \"John\", \"age\": 31, \"city\": \"New York\"}'\n",
    "join_raw = ','.join([raw for _ in range(3)])"
   ]
  },
  {
   "cell_type": "code",
   "execution_count": 19,
   "metadata": {},
   "outputs": [
    {
     "data": {
      "text/plain": [
       "'{ \"name\": \"John\", \"age\": 31, \"city\": \"New York\"},{ \"name\": \"John\", \"age\": 31, \"city\": \"New York\"},{ \"name\": \"John\", \"age\": 31, \"city\": \"New York\"}'"
      ]
     },
     "execution_count": 19,
     "metadata": {},
     "output_type": "execute_result"
    }
   ],
   "source": [
    "join_raw"
   ]
  },
  {
   "cell_type": "code",
   "execution_count": 20,
   "metadata": {},
   "outputs": [],
   "source": [
    "# notice we are adding a **list** of join_raw\n",
    "data = '{\"values\":[%s], \"date\":\"%s\"}' % (join_raw, datetime.today())"
   ]
  },
  {
   "cell_type": "code",
   "execution_count": 21,
   "metadata": {},
   "outputs": [
    {
     "data": {
      "text/plain": [
       "'{\"values\":[{ \"name\": \"John\", \"age\": 31, \"city\": \"New York\"},{ \"name\": \"John\", \"age\": 31, \"city\": \"New York\"},{ \"name\": \"John\", \"age\": 31, \"city\": \"New York\"}], \"date\":\"2021-05-07 19:45:58.634849\"}'"
      ]
     },
     "execution_count": 21,
     "metadata": {},
     "output_type": "execute_result"
    }
   ],
   "source": [
    "data"
   ]
  },
  {
   "cell_type": "code",
   "execution_count": 22,
   "metadata": {},
   "outputs": [
    {
     "data": {
      "text/plain": [
       "{'values': [{'name': 'John', 'age': 31, 'city': 'New York'},\n",
       "  {'name': 'John', 'age': 31, 'city': 'New York'},\n",
       "  {'name': 'John', 'age': 31, 'city': 'New York'}],\n",
       " 'date': '2021-05-07 19:45:58.634849'}"
      ]
     },
     "execution_count": 22,
     "metadata": {},
     "output_type": "execute_result"
    }
   ],
   "source": [
    "json.loads(data)"
   ]
  },
  {
   "cell_type": "markdown",
   "metadata": {},
   "source": [
    "## Work in class"
   ]
  },
  {
   "cell_type": "markdown",
   "metadata": {},
   "source": [
    "## Exercises"
   ]
  },
  {
   "cell_type": "markdown",
   "metadata": {},
   "source": [
    "Make groups of two to do the following exercises"
   ]
  },
  {
   "cell_type": "markdown",
   "metadata": {},
   "source": [
    "<br>"
   ]
  },
  {
   "cell_type": "markdown",
   "metadata": {},
   "source": [
    "**Exercise 1: Consider the following example as a list of events sent to a server: **\n",
    "\n",
    "```\n",
    "{\n",
    "  \"articles\": [\n",
    "    {\n",
    "      \"id\": 1,\n",
    "      \"title\": \"Build an API using GO\",\n",
    "      \"authorId\": 2\n",
    "    },\n",
    "    {\n",
    "      \"id\": 2,\n",
    "      \"title\": \"Build an API using API Platform\",\n",
    "      \"authorId\": 1\n",
    "    }\n",
    "  ],\n",
    "  \"comments\": [\n",
    "    {\n",
    "      \"id\": 1,\n",
    "      \"body\": \"Brilliant\",\n",
    "      \"articleId\": 1\n",
    "    },\n",
    "    {\n",
    "      \"id\": 2,\n",
    "      \"body\": \"Awesome\",\n",
    "      \"articleId\": 2\n",
    "    }\n",
    "  ],\n",
    "  \"authors\": [\n",
    "    {\n",
    "      \"id\": 1,\n",
    "      \"username\": \"rpierlot\",\n",
    "      \"title\": \"Romain Pierlot\"\n",
    "    },\n",
    "    {\n",
    "      \"id\": 2,\n",
    "      \"username\": \"qneyrat\",\n",
    "      \"title\": \"Quentin Neyrat\"\n",
    "    }\n",
    "  ]\n",
    "}\n",
    "```\n",
    "\n",
    "1. Turn it into a `.json` file. \n",
    "2. Load your file using `json.load()`"
   ]
  },
  {
   "cell_type": "code",
   "execution_count": 29,
   "metadata": {},
   "outputs": [
    {
     "data": {
      "text/plain": [
       "{'articles': [{'id': 1, 'title': 'Build an API using GO', 'authorId': 2},\n",
       "  {'id': 2, 'title': 'Build an API using API Platform', 'authorId': 1}],\n",
       " 'comments': [{'id': 1, 'body': 'Brilliant', 'articleId': 1},\n",
       "  {'id': 2, 'body': 'Awesome', 'articleId': 2}],\n",
       " 'authors': [{'id': 1, 'username': 'rpierlot', 'title': 'Romain Pierlot'},\n",
       "  {'id': 2, 'username': 'qneyrat', 'title': 'Quentin Neyrat'}]}"
      ]
     },
     "execution_count": 29,
     "metadata": {},
     "output_type": "execute_result"
    }
   ],
   "source": [
    "with open('ex1.json', 'r') as input_file:\n",
    "    result = json.load(input_file)\n",
    "    \n",
    "\n",
    "result"
   ]
  },
  {
   "cell_type": "markdown",
   "metadata": {},
   "source": [
    "**Exercise 2** \n",
    "\n",
    "1. Create a dictionary that holds at least 5 key-value pairs, and hold it in a variable called `dict_to_json`\n",
    "2. Save that dictionary in a json file called `my_dict.json` \n",
    "3. Change both files with your colleague - you can use slack for this one \n",
    "4. Load the json from your colleague and assign it to a variable. "
   ]
  },
  {
   "cell_type": "code",
   "execution_count": 30,
   "metadata": {},
   "outputs": [],
   "source": [
    "dict_to_json = {\"test1\": 1, \"test2\": 2, \"test3\": 3, \"test4\": 4, \"test5\": 5}\n",
    "with open(\"my_dict.json\", \"w\") as f:\n",
    "    json.dump(dict_to_json, f)"
   ]
  },
  {
   "cell_type": "code",
   "execution_count": 32,
   "metadata": {},
   "outputs": [
    {
     "data": {
      "text/plain": [
       "{'Eu': 'Olá',\n",
       " 'Vasco': 'Xiu',\n",
       " 'Isto': 'Seca',\n",
       " 'Python': 'Dificil',\n",
       " 'Fim': 'Nunca Mais'}"
      ]
     },
     "execution_count": 32,
     "metadata": {},
     "output_type": "execute_result"
    }
   ],
   "source": [
    "with open('my_dict.json', 'r') as input_file:\n",
    "    result_final = json.load(input_file)\n",
    "    \n",
    "result_final"
   ]
  },
  {
   "cell_type": "markdown",
   "metadata": {},
   "source": [
    "# Solutions"
   ]
  },
  {
   "cell_type": "code",
   "execution_count": 23,
   "metadata": {},
   "outputs": [],
   "source": [
    "j_1 = {\n",
    "  \"articles\": [\n",
    "    {\n",
    "      \"id\": 1,\n",
    "      \"title\": \"Build an API using GO\",\n",
    "      \"authorId\": 2\n",
    "    },\n",
    "    {\n",
    "      \"id\": 2,\n",
    "      \"title\": \"Build an API using API Platform\",\n",
    "      \"authorId\": 1\n",
    "    }\n",
    "  ],\n",
    "  \"comments\": [\n",
    "    {\n",
    "      \"id\": 1,\n",
    "      \"body\": \"Brilliant\",\n",
    "      \"articleId\": 1\n",
    "    },\n",
    "    {\n",
    "      \"id\": 2,\n",
    "      \"body\": \"Awesome\",\n",
    "      \"articleId\": 2\n",
    "    }\n",
    "  ],\n",
    "  \"authors\": [\n",
    "    {\n",
    "      \"id\": 1,\n",
    "      \"username\": \"rpierlot\",\n",
    "      \"title\": \"Romain Pierlot\"\n",
    "    },\n",
    "    {\n",
    "      \"id\": 2,\n",
    "      \"username\": \"qneyrat\",\n",
    "      \"title\": \"Quentin Neyrat\"\n",
    "    }\n",
    "  ]\n",
    "}"
   ]
  },
  {
   "cell_type": "markdown",
   "metadata": {},
   "source": [
    "#### write it to a file"
   ]
  },
  {
   "cell_type": "code",
   "execution_count": 26,
   "metadata": {},
   "outputs": [],
   "source": [
    "with open('server_data.json', 'w') as output_file: \n",
    "    json.dump(j_1, output_file)"
   ]
  },
  {
   "cell_type": "markdown",
   "metadata": {},
   "source": [
    "#### open the file "
   ]
  },
  {
   "cell_type": "code",
   "execution_count": 25,
   "metadata": {},
   "outputs": [],
   "source": [
    "with open('server_data.json', 'r') as input_file:\n",
    "    data = json.load(input_file)"
   ]
  },
  {
   "cell_type": "markdown",
   "metadata": {},
   "source": [
    "### Solution for exercise 2"
   ]
  },
  {
   "cell_type": "code",
   "execution_count": 31,
   "metadata": {},
   "outputs": [],
   "source": [
    "dict_to_json = {\"one\": 1, \"two\": 2, \"three\": 3, \"four\": 4, \"five\": 5}\n",
    "with open(\"new_json.json\", \"w\") as f:\n",
    "    json.dump(dict_to_json, f)\n",
    "    \n",
    "# to opne i"
   ]
  },
  {
   "cell_type": "code",
   "execution_count": null,
   "metadata": {},
   "outputs": [],
   "source": []
  }
 ],
 "metadata": {
  "kernelspec": {
   "display_name": "Python 3",
   "language": "python",
   "name": "python3"
  },
  "language_info": {
   "codemirror_mode": {
    "name": "ipython",
    "version": 3
   },
   "file_extension": ".py",
   "mimetype": "text/x-python",
   "name": "python",
   "nbconvert_exporter": "python",
   "pygments_lexer": "ipython3",
   "version": "3.8.5"
  }
 },
 "nbformat": 4,
 "nbformat_minor": 4
}
