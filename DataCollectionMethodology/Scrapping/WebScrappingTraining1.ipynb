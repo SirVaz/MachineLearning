{
 "cells": [
  {
   "cell_type": "code",
   "execution_count": 2,
   "metadata": {},
   "outputs": [],
   "source": [
    "import pandas as pd\n",
    "import requests # pedidos http \n",
    "from bs4 import BeautifulSoup # web scraping"
   ]
  },
  {
   "cell_type": "code",
   "execution_count": 3,
   "metadata": {},
   "outputs": [],
   "source": [
    "def get_data(url, parse):\n",
    "    \"\"\"\n",
    "    returns a parsed html \n",
    "    \"\"\"\n",
    "    raw_html = requests.get(url, parse).content\n",
    "    return BeautifulSoup(raw_html)"
   ]
  },
  {
   "cell_type": "code",
   "execution_count": 4,
   "metadata": {},
   "outputs": [],
   "source": [
    "url = 'https://www.ebay.com/sch/i.html?_from=R40&_trksid=p2380057.m570.l1313&_nkw=pixel+5&_sacat=0'\n",
    "raw_html = requests.get(url).content\n",
    "\n",
    "html = BeautifulSoup(raw_html)"
   ]
  },
  {
   "cell_type": "code",
   "execution_count": 5,
   "metadata": {},
   "outputs": [],
   "source": [
    "lista=html.find_all('li',class_='s-item')"
   ]
  },
  {
   "cell_type": "code",
   "execution_count": 8,
   "metadata": {},
   "outputs": [
    {
     "name": "stdout",
     "output_type": "stream",
     "text": [
      "[]\n"
     ]
    }
   ],
   "source": [
    "print(lista)"
   ]
  },
  {
   "cell_type": "code",
   "execution_count": 7,
   "metadata": {},
   "outputs": [],
   "source": [
    "for i in lista:\n",
    "    dissearch=i.find_all('div',class_='s-item__wrapper clearfix')\n",
    "    for j in dissearch:\n",
    "        name=j.find_all('h3',class_='s-item__title')\n",
    "        state=j.find_all('span',class_='SECONDARY_INFO')\n",
    "        price=j.find_all('span',class_='s-item__price')\n",
    "        print(\"{0}-{1}-{2}\".format(name,price,state))\n",
    "        \n",
    "#dissearch[0]"
   ]
  },
  {
   "cell_type": "code",
   "execution_count": null,
   "metadata": {},
   "outputs": [],
   "source": []
  }
 ],
 "metadata": {
  "kernelspec": {
   "display_name": "Python 3",
   "language": "python",
   "name": "python3"
  },
  "language_info": {
   "codemirror_mode": {
    "name": "ipython",
    "version": 3
   },
   "file_extension": ".py",
   "mimetype": "text/x-python",
   "name": "python",
   "nbconvert_exporter": "python",
   "pygments_lexer": "ipython3",
   "version": "3.8.5"
  }
 },
 "nbformat": 4,
 "nbformat_minor": 5
}
