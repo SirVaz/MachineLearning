{
 "cells": [
  {
   "cell_type": "code",
   "execution_count": 1,
   "metadata": {},
   "outputs": [],
   "source": [
    "import pandas as pd\n",
    "import requests # pedidos http \n",
    "from bs4 import BeautifulSoup # web scraping"
   ]
  },
  {
   "cell_type": "code",
   "execution_count": 2,
   "metadata": {},
   "outputs": [],
   "source": [
    "def get_data(url, parse):\n",
    "    \"\"\"\n",
    "    returns a parsed html \n",
    "    \"\"\"\n",
    "    raw_html = requests.get(url, parse).content\n",
    "    return BeautifulSoup(raw_html)"
   ]
  },
  {
   "cell_type": "code",
   "execution_count": 3,
   "metadata": {},
   "outputs": [],
   "source": [
    "url = 'https://en.wikipedia.org/wiki/Python_(programming_language)'\n",
    "raw_html = requests.get(url).content\n",
    "\n",
    "html = BeautifulSoup(raw_html)"
   ]
  },
  {
   "cell_type": "markdown",
   "metadata": {},
   "source": [
    "## Let's count the number of words in this page"
   ]
  },
  {
   "cell_type": "markdown",
   "metadata": {},
   "source": [
    "#### Find tags directly beneath other tags:"
   ]
  },
  {
   "cell_type": "code",
   "execution_count": 5,
   "metadata": {},
   "outputs": [],
   "source": [
    "part = html.select('div > p')"
   ]
  },
  {
   "cell_type": "code",
   "execution_count": 7,
   "metadata": {},
   "outputs": [],
   "source": [
    "word_list = []\n",
    "for p in part:\n",
    "    words = [word for word in p.text.split(' ')]\n",
    "    word_list.extend(words)"
   ]
  },
  {
   "cell_type": "code",
   "execution_count": 8,
   "metadata": {},
   "outputs": [],
   "source": [
    "count_word = {}\n",
    "for word in word_list:\n",
    "    if word in count_word:\n",
    "        count_word[word] += 1\n",
    "    else:\n",
    "        count_word[word] = 1"
   ]
  },
  {
   "cell_type": "code",
   "execution_count": 9,
   "metadata": {},
   "outputs": [],
   "source": [
    "sorted_keys = sorted(count_word, key=count_word.get, reverse=True)"
   ]
  },
  {
   "cell_type": "code",
   "execution_count": 10,
   "metadata": {},
   "outputs": [
    {
     "name": "stdout",
     "output_type": "stream",
     "text": [
      "<class 'list'>\n",
      "['and', 'the', 'a', 'Python', 'of', 'to', 'is', 'in', 'as', 'for']\n"
     ]
    }
   ],
   "source": [
    "print(type(sorted_keys))\n",
    "print(sorted_keys[:10])"
   ]
  },
  {
   "cell_type": "code",
   "execution_count": 11,
   "metadata": {},
   "outputs": [
    {
     "name": "stdout",
     "output_type": "stream",
     "text": [
      "and: 130\n",
      "the: 127\n",
      "a: 98\n",
      "Python: 83\n",
      "of: 82\n",
      "to: 81\n",
      "is: 76\n",
      "in: 75\n",
      "as: 53\n",
      "for: 40\n"
     ]
    }
   ],
   "source": [
    "for k in sorted_keys[:10]:\n",
    "    print('{}: {}'.format(k, count_word[k]))\n"
   ]
  },
  {
   "cell_type": "markdown",
   "metadata": {},
   "source": [
    "## Work class"
   ]
  },
  {
   "cell_type": "markdown",
   "metadata": {},
   "source": [
    "* Go to `https://www.standvirtual.com` and select the `Lotus` car\n",
    "* Now get the price, description and city, year and km of that car into a dataframe \n",
    "* In the end, save that dataframe in a csv format - we will need this later on "
   ]
  },
  {
   "cell_type": "code",
   "execution_count": 12,
   "metadata": {},
   "outputs": [
    {
     "data": {
      "text/plain": [
       "<Response [200]>"
      ]
     },
     "execution_count": 12,
     "metadata": {},
     "output_type": "execute_result"
    }
   ],
   "source": [
    "requests.get('http://www.cats.com')"
   ]
  },
  {
   "cell_type": "code",
   "execution_count": 28,
   "metadata": {
    "scrolled": true
   },
   "outputs": [],
   "source": [
    "html = get_data('https://www.standvirtual.com/carros/lotus/?search%5Bfilter_enum_damaged%5D=0&search%5Bnew_used%5D=all', 'html.parse')"
   ]
  },
  {
   "cell_type": "markdown",
   "metadata": {},
   "source": [
    "#### Go to stackoverflow, google or whatever! You have to google to understand how you can get this and you can do it in many ways"
   ]
  },
  {
   "cell_type": "code",
   "execution_count": 29,
   "metadata": {},
   "outputs": [],
   "source": [
    "price = html.find_all(\"div\", class_=\"offer-item__price\")"
   ]
  },
  {
   "cell_type": "code",
   "execution_count": 35,
   "metadata": {},
   "outputs": [
    {
     "data": {
      "text/plain": [
       "'\\n\\n\\n\\n\\n\\n\\n55 500\\nEUR\\n\\n\\n\\n                                                    Negociável                                                                                                                            \\n\\n'"
      ]
     },
     "execution_count": 35,
     "metadata": {},
     "output_type": "execute_result"
    }
   ],
   "source": [
    "\n",
    "price[0].get_text()"
   ]
  },
  {
   "cell_type": "markdown",
   "metadata": {},
   "source": [
    "Ok so we got a Beautiful soup tag. What the hell do I do with it? Simple: you read the documentation or try the shortcut in stackoverflow. Whatever floast your boat as long as you get use to it because this is web scrapping, it's painful, tedious and boring. Eventually it comes with great power. "
   ]
  },
  {
   "cell_type": "code",
   "execution_count": 17,
   "metadata": {},
   "outputs": [
    {
     "data": {
      "text/plain": [
       "<div class=\"offer-item__price\">\n",
       "<div class=\"offer-price ds-price-block\">\n",
       "<div class=\"price-wrapper-listing\">\n",
       "<div data-autoload=\"1\" data-class=\"\" data-props='{\"indicator\":\"none\",\"url\":\"https:\\/\\/www.standvirtual.com\\/anuncio\\/lotus-evora-launch-edition-ID8OZBlL.html\",\"adId\":8082561041,\"showTooltip\":true,\"showLabel\":false}' data-test=\"\" data-widget=\"PriceEvaluation/Display\">\n",
       "</div>\n",
       "<script type=\"text/javascript\">\n",
       "    try {\n",
       "        window.autoStartWidgets && window.autoStartWidgets()\n",
       "    } catch (error) {\n",
       "        window.newrelic && window.newrelic.addPageAction(\"Failed to start widget: \" + \"PriceEvaluation/Display\");\n",
       "    }\n",
       "    </script>\n",
       "<span class=\"offer-price__number ds-price-number\">\n",
       "<span>55 500</span>\n",
       "<span class=\"offer-price__currency ds-price-currency\" data-type=\"price_currency_1\">EUR</span>\n",
       "</span>\n",
       "</div>\n",
       "<span class=\"offer-price__details ds-price-complement\" data-type=\"price_negotiable\">\n",
       "                                                    Negociável                                                                                                                            </span>\n",
       "</div>\n",
       "</div>"
      ]
     },
     "execution_count": 17,
     "metadata": {},
     "output_type": "execute_result"
    }
   ],
   "source": [
    "price[0]"
   ]
  },
  {
   "cell_type": "code",
   "execution_count": 18,
   "metadata": {},
   "outputs": [
    {
     "data": {
      "text/plain": [
       "'\\n\\n\\n\\n\\n\\n\\n55 500\\nEUR\\n\\n\\n\\n                                                    Negociável                                                                                                                            \\n\\n'"
      ]
     },
     "execution_count": 18,
     "metadata": {},
     "output_type": "execute_result"
    }
   ],
   "source": [
    "price[0].get_text()"
   ]
  },
  {
   "cell_type": "markdown",
   "metadata": {},
   "source": [
    "Oh splendid! Now we have a horrible horrible string full of stuff we don't need ready to make our next 10minutes a nightmare! Here it's more about string manipulation than it is about searching"
   ]
  },
  {
   "cell_type": "markdown",
   "metadata": {},
   "source": [
    "Being creative here: \n",
    "- The first strip removes the `\\n\\n`\n",
    "- I'll split based on having more than 1 space (making sure the beautiful space between our numbers)"
   ]
  },
  {
   "cell_type": "code",
   "execution_count": 19,
   "metadata": {},
   "outputs": [
    {
     "data": {
      "text/plain": [
       "55500"
      ]
     },
     "execution_count": 19,
     "metadata": {},
     "output_type": "execute_result"
    }
   ],
   "source": [
    "int(price[0].get_text().strip('\\n\\n').split('  ')[0].replace(' ', '').split('\\n')[0])"
   ]
  },
  {
   "cell_type": "markdown",
   "metadata": {},
   "source": [
    "Sweet mammaaaa! Houston, we have price! Now comes the cool part: do what machine are meant for, loop it! "
   ]
  },
  {
   "cell_type": "code",
   "execution_count": 20,
   "metadata": {},
   "outputs": [
    {
     "data": {
      "text/plain": [
       "8"
      ]
     },
     "execution_count": 20,
     "metadata": {},
     "output_type": "execute_result"
    }
   ],
   "source": [
    "len(price)"
   ]
  },
  {
   "cell_type": "code",
   "execution_count": 21,
   "metadata": {},
   "outputs": [],
   "source": [
    "prices = []\n",
    "for i in range(len(price)):\n",
    "    p = price[i]\n",
    "    text = p.get_text()\n",
    "    _append = text.strip('\\n\\n').split('  ')[0].replace(' ', '').split('\\n')[0]\n",
    "    \n",
    "    _append = _append.replace(' ', '')\n",
    "    prices.append(int(_append))"
   ]
  },
  {
   "cell_type": "code",
   "execution_count": 22,
   "metadata": {},
   "outputs": [
    {
     "data": {
      "text/plain": [
       "[55500, 27500, 34900, 31000, 38000, 79900, 20000, 43000]"
      ]
     },
     "execution_count": 22,
     "metadata": {},
     "output_type": "execute_result"
    }
   ],
   "source": [
    "prices"
   ]
  },
  {
   "cell_type": "markdown",
   "metadata": {},
   "source": [
    "And there we go! Prices.. Notice the architecture is pretty bad. I didn't match the prices with anything, now I now the 30000 correspond to the first car, not a very robust architecture but serve the purpose of showing some of the problem you might encounter when scrapping the webbbzzz. \n",
    "\n",
    "Now it's your time power rangers! Go and get us the rest of the info"
   ]
  },
  {
   "cell_type": "code",
   "execution_count": 23,
   "metadata": {},
   "outputs": [],
   "source": [
    "df = pd.DataFrame(prices, columns=['price'])\n",
    "df.to_csv('example_dataframe.csv', index=False)"
   ]
  },
  {
   "cell_type": "markdown",
   "metadata": {},
   "source": [
    "## Suggestion of a possible solution"
   ]
  },
  {
   "cell_type": "code",
   "execution_count": 24,
   "metadata": {
    "scrolled": true
   },
   "outputs": [
    {
     "ename": "IndexError",
     "evalue": "list index out of range",
     "output_type": "error",
     "traceback": [
      "\u001b[1;31m---------------------------------------------------------------------------\u001b[0m",
      "\u001b[1;31mIndexError\u001b[0m                                Traceback (most recent call last)",
      "\u001b[1;32m<ipython-input-24-049ac45c6183>\u001b[0m in \u001b[0;36m<module>\u001b[1;34m\u001b[0m\n\u001b[0;32m     16\u001b[0m     my_cars[\"car_{}\".format(index + 1)] = {\n\u001b[0;32m     17\u001b[0m         \u001b[1;34m\"price\"\u001b[0m\u001b[1;33m:\u001b[0m \u001b[0mprice\u001b[0m\u001b[1;33m,\u001b[0m\u001b[1;33m\u001b[0m\u001b[1;33m\u001b[0m\u001b[0m\n\u001b[1;32m---> 18\u001b[1;33m         \u001b[1;34m\"mileage\"\u001b[0m\u001b[1;33m:\u001b[0m \u001b[0mitems\u001b[0m\u001b[1;33m[\u001b[0m\u001b[0mindex\u001b[0m\u001b[1;33m]\u001b[0m\u001b[1;33m.\u001b[0m\u001b[0mfind_all\u001b[0m\u001b[1;33m(\u001b[0m\u001b[0mattrs\u001b[0m\u001b[1;33m=\u001b[0m\u001b[1;33m{\u001b[0m\u001b[1;34m\"data-code\"\u001b[0m\u001b[1;33m:\u001b[0m \u001b[1;34m\"mileage\"\u001b[0m\u001b[1;33m}\u001b[0m\u001b[1;33m)\u001b[0m\u001b[1;33m[\u001b[0m\u001b[1;36m0\u001b[0m\u001b[1;33m]\u001b[0m\u001b[1;33m.\u001b[0m\u001b[0mspan\u001b[0m\u001b[1;33m.\u001b[0m\u001b[0mget_text\u001b[0m\u001b[1;33m(\u001b[0m\u001b[1;33m)\u001b[0m\u001b[1;33m,\u001b[0m\u001b[1;33m\u001b[0m\u001b[1;33m\u001b[0m\u001b[0m\n\u001b[0m\u001b[0;32m     19\u001b[0m         \u001b[1;34m\"title\"\u001b[0m\u001b[1;33m:\u001b[0m \u001b[0mitems\u001b[0m\u001b[1;33m[\u001b[0m\u001b[0mindex\u001b[0m\u001b[1;33m]\u001b[0m\u001b[1;33m.\u001b[0m\u001b[0mfind_all\u001b[0m\u001b[1;33m(\u001b[0m\u001b[0mclass_\u001b[0m\u001b[1;33m=\u001b[0m\u001b[1;34m\"offer-title__link\"\u001b[0m\u001b[1;33m)\u001b[0m\u001b[1;33m[\u001b[0m\u001b[1;36m0\u001b[0m\u001b[1;33m]\u001b[0m\u001b[1;33m.\u001b[0m\u001b[0mget_text\u001b[0m\u001b[1;33m(\u001b[0m\u001b[1;33m)\u001b[0m\u001b[1;33m.\u001b[0m\u001b[0mreplace\u001b[0m\u001b[1;33m(\u001b[0m\u001b[1;34m\"  \"\u001b[0m\u001b[1;33m,\u001b[0m \u001b[1;34m\"\"\u001b[0m\u001b[1;33m)\u001b[0m\u001b[1;33m.\u001b[0m\u001b[0mstrip\u001b[0m\u001b[1;33m(\u001b[0m\u001b[1;33m)\u001b[0m\u001b[1;33m\u001b[0m\u001b[1;33m\u001b[0m\u001b[0m\n\u001b[0;32m     20\u001b[0m     }\n",
      "\u001b[1;31mIndexError\u001b[0m: list index out of range"
     ]
    }
   ],
   "source": [
    "# get different divs that describe each car\n",
    "html = get_data(\"https://www.standvirtual.com/carros/lotus/\", \"html.parsed\")\n",
    "\n",
    "items = html.find_all(\"div\", class_=[\"offer-item__content\", \"ds-details-container\"])\n",
    "my_cars = {}\n",
    "\n",
    "for index in range(len(items)):\n",
    "    # If you assume there is a class that will return an empty list, as you can \n",
    "    # see here: class_=\"fsdjfnsdjfsad\" returns an empty list, because obviously\n",
    "    # there are no classes named like that. This tries to set a price variable, \n",
    "    # in case the error is an IndexError, then we can assign to 0.\n",
    "    try:\n",
    "        price = items[index].find_all(class_=\"fsdjfnsdjfsad\")[0].span.get_text()\n",
    "    except IndexError:\n",
    "        price = 0\n",
    "    my_cars[\"car_{}\".format(index + 1)] = {\n",
    "        \"price\": price,\n",
    "        \"mileage\": items[index].find_all(attrs={\"data-code\": \"mileage\"})[0].span.get_text(),\n",
    "        \"title\": items[index].find_all(class_=\"offer-title__link\")[0].get_text().replace(\"  \", \"\").strip()\n",
    "    }"
   ]
  },
  {
   "cell_type": "code",
   "execution_count": 25,
   "metadata": {},
   "outputs": [
    {
     "data": {
      "text/plain": [
       "{}"
      ]
     },
     "execution_count": 25,
     "metadata": {},
     "output_type": "execute_result"
    }
   ],
   "source": [
    "my_cars"
   ]
  },
  {
   "cell_type": "code",
   "execution_count": null,
   "metadata": {},
   "outputs": [],
   "source": []
  }
 ],
 "metadata": {
  "kernelspec": {
   "display_name": "Python 3",
   "language": "python",
   "name": "python3"
  },
  "language_info": {
   "codemirror_mode": {
    "name": "ipython",
    "version": 3
   },
   "file_extension": ".py",
   "mimetype": "text/x-python",
   "name": "python",
   "nbconvert_exporter": "python",
   "pygments_lexer": "ipython3",
   "version": "3.8.5"
  }
 },
 "nbformat": 4,
 "nbformat_minor": 4
}
